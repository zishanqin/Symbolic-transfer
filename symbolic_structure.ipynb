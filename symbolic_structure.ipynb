{
 "cells": [
  {
   "cell_type": "code",
   "execution_count": 1,
   "metadata": {},
   "outputs": [],
   "source": [
    "import torch\n",
    "cross_entropy_loss = torch.nn.CrossEntropyLoss()\n",
    "\n",
    "# Input: f_q (BxCxS) and sampled features from H(G_enc(x))\n",
    "# Input: f_k (BxCxS) are sampled features from H(G_enc(G(x))\n",
    "# Input: tau is the temperature used in PatchNCE loss.\n",
    "# Output: PatchNCE loss\n",
    "def PatchNCELoss(f_q, f_k, tau=0.07):\n",
    "    # batch size, channel size, and number of sample locations\n",
    "    B, C, S = f_q.shape\n",
    "\n",
    "    # calculate v * v+: BxSx1\n",
    "    l_pos = (f_k * f_q).sum(dim=1)[:, :, None]\n",
    "\n",
    "    # calculate v * v-: BxSxS\n",
    "    l_neg = torch.bmm(f_q.transpose(1, 2), f_k)\n",
    "\n",
    "    # The diagonal entries are not negatives. Remove them.\n",
    "    identity_matrix = torch.eye(S)[None, :, :]\n",
    "    l_neg.masked_fill_(identity_matrix, -float('inf'))\n",
    "\n",
    "    # calculate logits: (B)x(S)x(S+1)\n",
    "    logits = torch.cat((l_pos, l_neg), dim=2) / tau\n",
    "\n",
    "    # return PatchNCE loss\n",
    "    predictions = logits.flatten(0, 1)\n",
    "    targets = torch.zeros(B * S, dtype=torch.long)\n",
    "    return cross_entropy_loss(predictions, targets)"
   ]
  },
  {
   "cell_type": "code",
   "execution_count": null,
   "metadata": {},
   "outputs": [],
   "source": []
  }
 ],
 "metadata": {
  "kernelspec": {
   "display_name": "Python 3",
   "language": "python",
   "name": "python3"
  },
  "language_info": {
   "codemirror_mode": {
    "name": "ipython",
    "version": 3
   },
   "file_extension": ".py",
   "mimetype": "text/x-python",
   "name": "python",
   "nbconvert_exporter": "python",
   "pygments_lexer": "ipython3",
   "version": "3.8.5"
  }
 },
 "nbformat": 4,
 "nbformat_minor": 4
}
